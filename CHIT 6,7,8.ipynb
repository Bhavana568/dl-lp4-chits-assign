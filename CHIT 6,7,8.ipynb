{
 "cells": [
  {
   "cell_type": "code",
   "execution_count": 1,
   "id": "fd396486",
   "metadata": {},
   "outputs": [],
   "source": [
    "#importing libraries\n",
    "from keras.preprocessing import text\n",
    "from keras.utils import np_utils\n",
    "from keras.preprocessing import sequence\n",
    "from keras.utils import pad_sequences\n",
    "import numpy as np\n",
    "import pandas as pd"
   ]
  },
  {
   "cell_type": "code",
   "execution_count": 2,
   "id": "a8c63d97",
   "metadata": {},
   "outputs": [],
   "source": [
    "#taking random sentences as data\n",
    "data = \"\"\"Deep learning (also known as deep structured learning) is part of a broader family of machine learning methods based on artificial neural networks with representation learning. Learning can be supervised, semi-supervised or unsupervised. \n",
    "Deep-learning architectures such as deep neural networks, deep belief networks, deep reinforcement learning, recurrent neural networks, convolutional neural networks and Transformers have been applied to fields including computer vision, speech recognition, natural language processing, machine translation, bioinformatics, drug design, medical image analysis, climate science, material inspection and board game programs, where they have produced results comparable to and in some cases surpassing human expert performance.\n",
    "\"\"\"\n",
    "dl_data = data.split()"
   ]
  },
  {
   "cell_type": "code",
   "execution_count": 3,
   "id": "172e6949",
   "metadata": {},
   "outputs": [
    {
     "name": "stdout",
     "output_type": "stream",
     "text": [
      "Vocabulary Size: 75\n",
      "Vocabulary Sample: [('learning', 1), ('deep', 2), ('networks', 3), ('neural', 4), ('and', 5), ('as', 6), ('of', 7), ('machine', 8), ('supervised', 9), ('have', 10)]\n"
     ]
    }
   ],
   "source": [
    "#tokenization\n",
    "tokenizer = text.Tokenizer()\n",
    "tokenizer.fit_on_texts(dl_data)\n",
    "word2id = tokenizer.word_index\n",
    "\n",
    "word2id['PAD'] = 0\n",
    "id2word = {v:k for k, v in word2id.items()}\n",
    "wids = [[word2id[w] for w in text.text_to_word_sequence(doc)] for doc in dl_data]\n",
    "\n",
    "vocab_size = len(word2id)\n",
    "embed_size = 100\n",
    "window_size = 2 \n",
    "\n",
    "print('Vocabulary Size:', vocab_size)\n",
    "print('Vocabulary Sample:', list(word2id.items())[:10])"
   ]
  },
  {
   "cell_type": "code",
   "execution_count": 4,
   "id": "4c2bec12",
   "metadata": {},
   "outputs": [],
   "source": [
    "#generating (context word, target/label word) pairs\n",
    "def generate_context_word_pairs(corpus, window_size, vocab_size):\n",
    "    context_length = window_size*2\n",
    "    for words in corpus:\n",
    "        sentence_length = len(words)\n",
    "        for index, word in enumerate(words):\n",
    "            context_words = []\n",
    "            label_word   = []            \n",
    "            start = index - window_size\n",
    "            end = index + window_size + 1\n",
    "            \n",
    "            context_words.append([words[i] \n",
    "                                 for i in range(start, end) \n",
    "                                 if 0 <= i < sentence_length \n",
    "                                 and i != index])\n",
    "            label_word.append(word)\n",
    "\n",
    "            x = pad_sequences(context_words, maxlen=context_length)\n",
    "            y = np_utils.to_categorical(label_word, vocab_size)\n",
    "            yield (x, y)\n",
    "            \n",
    "i = 0\n",
    "for x, y in generate_context_word_pairs(corpus=wids, window_size=window_size, vocab_size=vocab_size):\n",
    "    if 0 not in x[0]:\n",
    "        # print('Context (X):', [id2word[w] for w in x[0]], '-> Target (Y):', id2word[np.argwhere(y[0])[0][0]])\n",
    "    \n",
    "        if i == 10:\n",
    "            break\n",
    "        i += 1"
   ]
  },
  {
   "cell_type": "code",
   "execution_count": 5,
   "id": "1d59586f",
   "metadata": {},
   "outputs": [
    {
     "name": "stdout",
     "output_type": "stream",
     "text": [
      "Model: \"sequential\"\n",
      "_________________________________________________________________\n",
      " Layer (type)                Output Shape              Param #   \n",
      "=================================================================\n",
      " embedding (Embedding)       (None, 4, 100)            7500      \n",
      "                                                                 \n",
      " lambda (Lambda)             (None, 100)               0         \n",
      "                                                                 \n",
      " dense (Dense)               (None, 75)                7575      \n",
      "                                                                 \n",
      "=================================================================\n",
      "Total params: 15,075\n",
      "Trainable params: 15,075\n",
      "Non-trainable params: 0\n",
      "_________________________________________________________________\n",
      "None\n"
     ]
    }
   ],
   "source": [
    "#model building\n",
    "import keras.backend as K\n",
    "from keras.models import Sequential\n",
    "from keras.layers import Dense, Embedding, Lambda\n",
    "\n",
    "cbow = Sequential()\n",
    "cbow.add(Embedding(input_dim=vocab_size, output_dim=embed_size, input_length=window_size*2))\n",
    "cbow.add(Lambda(lambda x: K.mean(x, axis=1), output_shape=(embed_size,)))\n",
    "cbow.add(Dense(vocab_size, activation='softmax'))\n",
    "cbow.compile(loss='categorical_crossentropy', optimizer='rmsprop')\n",
    "\n",
    "print(cbow.summary())\n",
    "\n",
    "# from IPython.display import SVG\n",
    "# from keras.utils.vis_utils import model_to_dot\n",
    "\n",
    "# SVG(model_to_dot(cbow, show_shapes=True, show_layer_names=False, rankdir='TB').create(prog='dot', format='svg'))"
   ]
  },
  {
   "cell_type": "code",
   "execution_count": 6,
   "id": "866288b1",
   "metadata": {},
   "outputs": [
    {
     "name": "stdout",
     "output_type": "stream",
     "text": [
      "Epoch: 1 \tLoss: 433.82190895080566\n",
      "\n",
      "Epoch: 2 \tLoss: 428.685409784317\n",
      "\n",
      "Epoch: 3 \tLoss: 425.05888843536377\n",
      "\n",
      "Epoch: 4 \tLoss: 421.83957743644714\n",
      "\n",
      "Epoch: 5 \tLoss: 419.5340943336487\n",
      "\n"
     ]
    }
   ],
   "source": [
    "for epoch in range(1, 6):\n",
    "    loss = 0.\n",
    "    i = 0\n",
    "    for x, y in generate_context_word_pairs(corpus=wids, window_size=window_size, vocab_size=vocab_size):\n",
    "        i += 1\n",
    "        loss += cbow.train_on_batch(x, y)\n",
    "        if i % 100000 == 0:\n",
    "            print('Processed {} (context, word) pairs'.format(i))\n",
    "\n",
    "    print('Epoch:', epoch, '\\tLoss:', loss)\n",
    "    print()"
   ]
  },
  {
   "cell_type": "code",
   "execution_count": 7,
   "id": "abd872d8",
   "metadata": {},
   "outputs": [
    {
     "name": "stdout",
     "output_type": "stream",
     "text": [
      "(74, 100)\n"
     ]
    },
    {
     "data": {
      "text/html": [
       "<div>\n",
       "<style scoped>\n",
       "    .dataframe tbody tr th:only-of-type {\n",
       "        vertical-align: middle;\n",
       "    }\n",
       "\n",
       "    .dataframe tbody tr th {\n",
       "        vertical-align: top;\n",
       "    }\n",
       "\n",
       "    .dataframe thead th {\n",
       "        text-align: right;\n",
       "    }\n",
       "</style>\n",
       "<table border=\"1\" class=\"dataframe\">\n",
       "  <thead>\n",
       "    <tr style=\"text-align: right;\">\n",
       "      <th></th>\n",
       "      <th>0</th>\n",
       "      <th>1</th>\n",
       "      <th>2</th>\n",
       "      <th>3</th>\n",
       "      <th>4</th>\n",
       "      <th>5</th>\n",
       "      <th>6</th>\n",
       "      <th>7</th>\n",
       "      <th>8</th>\n",
       "      <th>9</th>\n",
       "      <th>...</th>\n",
       "      <th>90</th>\n",
       "      <th>91</th>\n",
       "      <th>92</th>\n",
       "      <th>93</th>\n",
       "      <th>94</th>\n",
       "      <th>95</th>\n",
       "      <th>96</th>\n",
       "      <th>97</th>\n",
       "      <th>98</th>\n",
       "      <th>99</th>\n",
       "    </tr>\n",
       "  </thead>\n",
       "  <tbody>\n",
       "    <tr>\n",
       "      <th>deep</th>\n",
       "      <td>-0.008117</td>\n",
       "      <td>0.043179</td>\n",
       "      <td>-0.025967</td>\n",
       "      <td>-0.053352</td>\n",
       "      <td>0.064635</td>\n",
       "      <td>0.002694</td>\n",
       "      <td>-0.019058</td>\n",
       "      <td>0.011148</td>\n",
       "      <td>-0.001328</td>\n",
       "      <td>0.011125</td>\n",
       "      <td>...</td>\n",
       "      <td>0.008347</td>\n",
       "      <td>-0.010539</td>\n",
       "      <td>0.060543</td>\n",
       "      <td>-0.015804</td>\n",
       "      <td>-0.002581</td>\n",
       "      <td>0.007230</td>\n",
       "      <td>0.008506</td>\n",
       "      <td>0.033016</td>\n",
       "      <td>-0.002336</td>\n",
       "      <td>0.025570</td>\n",
       "    </tr>\n",
       "    <tr>\n",
       "      <th>networks</th>\n",
       "      <td>-0.030135</td>\n",
       "      <td>0.005777</td>\n",
       "      <td>0.015104</td>\n",
       "      <td>0.031092</td>\n",
       "      <td>-0.003619</td>\n",
       "      <td>0.032982</td>\n",
       "      <td>0.055717</td>\n",
       "      <td>-0.016277</td>\n",
       "      <td>0.008634</td>\n",
       "      <td>-0.011236</td>\n",
       "      <td>...</td>\n",
       "      <td>0.007576</td>\n",
       "      <td>-0.008316</td>\n",
       "      <td>-0.014788</td>\n",
       "      <td>0.031822</td>\n",
       "      <td>0.059783</td>\n",
       "      <td>0.000668</td>\n",
       "      <td>0.001520</td>\n",
       "      <td>0.023409</td>\n",
       "      <td>0.012868</td>\n",
       "      <td>-0.017669</td>\n",
       "    </tr>\n",
       "    <tr>\n",
       "      <th>neural</th>\n",
       "      <td>-0.006061</td>\n",
       "      <td>0.032205</td>\n",
       "      <td>0.030097</td>\n",
       "      <td>-0.025263</td>\n",
       "      <td>0.015152</td>\n",
       "      <td>0.038714</td>\n",
       "      <td>0.035798</td>\n",
       "      <td>0.038655</td>\n",
       "      <td>0.047493</td>\n",
       "      <td>0.000686</td>\n",
       "      <td>...</td>\n",
       "      <td>-0.001868</td>\n",
       "      <td>-0.006777</td>\n",
       "      <td>0.028116</td>\n",
       "      <td>-0.014916</td>\n",
       "      <td>0.034036</td>\n",
       "      <td>-0.010436</td>\n",
       "      <td>0.023688</td>\n",
       "      <td>-0.034369</td>\n",
       "      <td>-0.043410</td>\n",
       "      <td>-0.049589</td>\n",
       "    </tr>\n",
       "    <tr>\n",
       "      <th>and</th>\n",
       "      <td>0.012080</td>\n",
       "      <td>-0.028633</td>\n",
       "      <td>0.040001</td>\n",
       "      <td>-0.043334</td>\n",
       "      <td>-0.030806</td>\n",
       "      <td>0.018179</td>\n",
       "      <td>-0.035860</td>\n",
       "      <td>-0.001465</td>\n",
       "      <td>0.009119</td>\n",
       "      <td>-0.010700</td>\n",
       "      <td>...</td>\n",
       "      <td>0.014389</td>\n",
       "      <td>0.029863</td>\n",
       "      <td>0.017514</td>\n",
       "      <td>-0.030153</td>\n",
       "      <td>0.020659</td>\n",
       "      <td>-0.031148</td>\n",
       "      <td>0.036823</td>\n",
       "      <td>0.002808</td>\n",
       "      <td>0.015028</td>\n",
       "      <td>0.011079</td>\n",
       "    </tr>\n",
       "    <tr>\n",
       "      <th>as</th>\n",
       "      <td>-0.014432</td>\n",
       "      <td>0.010052</td>\n",
       "      <td>0.011666</td>\n",
       "      <td>0.017830</td>\n",
       "      <td>0.015983</td>\n",
       "      <td>0.005682</td>\n",
       "      <td>0.048186</td>\n",
       "      <td>0.020674</td>\n",
       "      <td>0.016271</td>\n",
       "      <td>0.044427</td>\n",
       "      <td>...</td>\n",
       "      <td>0.037306</td>\n",
       "      <td>-0.042479</td>\n",
       "      <td>0.036177</td>\n",
       "      <td>-0.025181</td>\n",
       "      <td>-0.003661</td>\n",
       "      <td>-0.009195</td>\n",
       "      <td>0.022259</td>\n",
       "      <td>0.028194</td>\n",
       "      <td>-0.049714</td>\n",
       "      <td>-0.012457</td>\n",
       "    </tr>\n",
       "  </tbody>\n",
       "</table>\n",
       "<p>5 rows × 100 columns</p>\n",
       "</div>"
      ],
      "text/plain": [
       "                0         1         2         3         4         5   \\\n",
       "deep     -0.008117  0.043179 -0.025967 -0.053352  0.064635  0.002694   \n",
       "networks -0.030135  0.005777  0.015104  0.031092 -0.003619  0.032982   \n",
       "neural   -0.006061  0.032205  0.030097 -0.025263  0.015152  0.038714   \n",
       "and       0.012080 -0.028633  0.040001 -0.043334 -0.030806  0.018179   \n",
       "as       -0.014432  0.010052  0.011666  0.017830  0.015983  0.005682   \n",
       "\n",
       "                6         7         8         9   ...        90        91  \\\n",
       "deep     -0.019058  0.011148 -0.001328  0.011125  ...  0.008347 -0.010539   \n",
       "networks  0.055717 -0.016277  0.008634 -0.011236  ...  0.007576 -0.008316   \n",
       "neural    0.035798  0.038655  0.047493  0.000686  ... -0.001868 -0.006777   \n",
       "and      -0.035860 -0.001465  0.009119 -0.010700  ...  0.014389  0.029863   \n",
       "as        0.048186  0.020674  0.016271  0.044427  ...  0.037306 -0.042479   \n",
       "\n",
       "                92        93        94        95        96        97  \\\n",
       "deep      0.060543 -0.015804 -0.002581  0.007230  0.008506  0.033016   \n",
       "networks -0.014788  0.031822  0.059783  0.000668  0.001520  0.023409   \n",
       "neural    0.028116 -0.014916  0.034036 -0.010436  0.023688 -0.034369   \n",
       "and       0.017514 -0.030153  0.020659 -0.031148  0.036823  0.002808   \n",
       "as        0.036177 -0.025181 -0.003661 -0.009195  0.022259  0.028194   \n",
       "\n",
       "                98        99  \n",
       "deep     -0.002336  0.025570  \n",
       "networks  0.012868 -0.017669  \n",
       "neural   -0.043410 -0.049589  \n",
       "and       0.015028  0.011079  \n",
       "as       -0.049714 -0.012457  \n",
       "\n",
       "[5 rows x 100 columns]"
      ]
     },
     "execution_count": 7,
     "metadata": {},
     "output_type": "execute_result"
    }
   ],
   "source": [
    "weights = cbow.get_weights()[0]\n",
    "weights = weights[1:]\n",
    "print(weights.shape)\n",
    "\n",
    "pd.DataFrame(weights, index=list(id2word.values())[1:]).head()"
   ]
  },
  {
   "cell_type": "code",
   "execution_count": 8,
   "id": "c67011ca",
   "metadata": {},
   "outputs": [
    {
     "name": "stdout",
     "output_type": "stream",
     "text": [
      "(74, 74)\n"
     ]
    },
    {
     "data": {
      "text/plain": [
       "{'deep': ['family', 'recurrent', 'artificial', 'networks', 'surpassing']}"
      ]
     },
     "execution_count": 8,
     "metadata": {},
     "output_type": "execute_result"
    }
   ],
   "source": [
    "from sklearn.metrics.pairwise import euclidean_distances\n",
    "\n",
    "distance_matrix = euclidean_distances(weights)\n",
    "print(distance_matrix.shape)\n",
    "\n",
    "similar_words = {search_term: [id2word[idx] for idx in distance_matrix[word2id[search_term]-1].argsort()[1:6]+1] \n",
    "                   for search_term in ['deep']}\n",
    "\n",
    "similar_words"
   ]
  },
  {
   "cell_type": "code",
   "execution_count": 11,
   "id": "45f2277d",
   "metadata": {},
   "outputs": [
    {
     "name": "stdout",
     "output_type": "stream",
     "text": [
      "Hello! Welcome to demofile.txt\n",
      "This file is for testing purposes.\n",
      "Good Luck!s\n"
     ]
    }
   ],
   "source": [
    "f = open(\"/Users/lenovo/Desktop/demo.txt\", \"r\")\n",
    "print(f.read())"
   ]
  },
  {
   "cell_type": "code",
   "execution_count": 14,
   "id": "987649e9",
   "metadata": {},
   "outputs": [],
   "source": [
    "with open('/Users/lenovo/Desktop/demo.txt', 'r') as file:\n",
    "    data1 = file.read().replace('\\n', '')"
   ]
  },
  {
   "cell_type": "code",
   "execution_count": 15,
   "id": "5da2c86a",
   "metadata": {},
   "outputs": [],
   "source": [
    "dl_data1 = data1.split()"
   ]
  },
  {
   "cell_type": "code",
   "execution_count": 16,
   "id": "6c7ade27",
   "metadata": {},
   "outputs": [
    {
     "name": "stdout",
     "output_type": "stream",
     "text": [
      "['Hello!', 'Welcome', 'to', 'demofile.txtThis', 'file', 'is', 'for', 'testing', 'purposes.Good', 'Luck!s']\n"
     ]
    }
   ],
   "source": [
    "print(dl_data1)"
   ]
  },
  {
   "cell_type": "code",
   "execution_count": 17,
   "id": "4a0a0c0f",
   "metadata": {},
   "outputs": [
    {
     "name": "stdout",
     "output_type": "stream",
     "text": [
      "Hello! Welcome to demofile.txtThis file is for testing purposes.Good Luck!s\n"
     ]
    }
   ],
   "source": [
    "print(data1)"
   ]
  },
  {
   "cell_type": "code",
   "execution_count": null,
   "id": "1f2fc53e",
   "metadata": {},
   "outputs": [],
   "source": []
  }
 ],
 "metadata": {
  "kernelspec": {
   "display_name": "Python 3 (ipykernel)",
   "language": "python",
   "name": "python3"
  },
  "language_info": {
   "codemirror_mode": {
    "name": "ipython",
    "version": 3
   },
   "file_extension": ".py",
   "mimetype": "text/x-python",
   "name": "python",
   "nbconvert_exporter": "python",
   "pygments_lexer": "ipython3",
   "version": "3.8.13"
  }
 },
 "nbformat": 4,
 "nbformat_minor": 5
}
